{
 "cells": [
  {
   "cell_type": "markdown",
   "metadata": {
    "colab_type": "text",
    "id": "kR-4eNdK6lYS"
   },
   "source": [
    "Deep Learning\n",
    "=============\n",
    "\n",
    "Assignment 3\n",
    "------------\n",
    "\n",
    "Previously in `2_fullyconnected.ipynb`, you trained a logistic regression and a neural network model.\n",
    "\n",
    "The goal of this assignment is to explore regularization techniques."
   ]
  },
  {
   "cell_type": "code",
   "execution_count": 2,
   "metadata": {
    "cellView": "both",
    "colab": {
     "autoexec": {
      "startup": false,
      "wait_interval": 0
     }
    },
    "colab_type": "code",
    "collapsed": true,
    "id": "JLpLa8Jt7Vu4"
   },
   "outputs": [],
   "source": [
    "# These are all the modules we'll be using later. Make sure you can import them\n",
    "# before proceeding further.\n",
    "from __future__ import print_function\n",
    "import numpy as np\n",
    "import tensorflow as tf\n",
    "from six.moves import cPickle as pickle"
   ]
  },
  {
   "cell_type": "markdown",
   "metadata": {
    "colab_type": "text",
    "id": "1HrCK6e17WzV"
   },
   "source": [
    "First reload the data we generated in _notmist.ipynb_."
   ]
  },
  {
   "cell_type": "code",
   "execution_count": 3,
   "metadata": {
    "cellView": "both",
    "colab": {
     "autoexec": {
      "startup": false,
      "wait_interval": 0
     },
     "output_extras": [
      {
       "item_id": 1
      }
     ]
    },
    "colab_type": "code",
    "collapsed": false,
    "executionInfo": {
     "elapsed": 11777,
     "status": "ok",
     "timestamp": 1449849322348,
     "user": {
      "color": "",
      "displayName": "",
      "isAnonymous": false,
      "isMe": true,
      "permissionId": "",
      "photoUrl": "",
      "sessionId": "0",
      "userId": ""
     },
     "user_tz": 480
    },
    "id": "y3-cj1bpmuxc",
    "outputId": "e03576f1-ebbe-4838-c388-f1777bcc9873"
   },
   "outputs": [
    {
     "name": "stdout",
     "output_type": "stream",
     "text": [
      "Training set (200000, 28, 28) (200000,)\n",
      "Validation set (10000, 28, 28) (10000,)\n",
      "Test set (10000, 28, 28) (10000,)\n"
     ]
    }
   ],
   "source": [
    "pickle_file = 'notMNIST.pickle'\n",
    "\n",
    "with open(pickle_file, 'rb') as f:\n",
    "  save = pickle.load(f)\n",
    "  train_dataset = save['train_dataset']\n",
    "  train_labels = save['train_labels']\n",
    "  valid_dataset = save['valid_dataset']\n",
    "  valid_labels = save['valid_labels']\n",
    "  test_dataset = save['test_dataset']\n",
    "  test_labels = save['test_labels']\n",
    "  del save  # hint to help gc free up memory\n",
    "  print('Training set', train_dataset.shape, train_labels.shape)\n",
    "  print('Validation set', valid_dataset.shape, valid_labels.shape)\n",
    "  print('Test set', test_dataset.shape, test_labels.shape)"
   ]
  },
  {
   "cell_type": "markdown",
   "metadata": {
    "colab_type": "text",
    "id": "L7aHrm6nGDMB"
   },
   "source": [
    "Reformat into a shape that's more adapted to the models we're going to train:\n",
    "- data as a flat matrix,\n",
    "- labels as float 1-hot encodings."
   ]
  },
  {
   "cell_type": "code",
   "execution_count": 4,
   "metadata": {
    "cellView": "both",
    "colab": {
     "autoexec": {
      "startup": false,
      "wait_interval": 0
     },
     "output_extras": [
      {
       "item_id": 1
      }
     ]
    },
    "colab_type": "code",
    "collapsed": false,
    "executionInfo": {
     "elapsed": 11728,
     "status": "ok",
     "timestamp": 1449849322356,
     "user": {
      "color": "",
      "displayName": "",
      "isAnonymous": false,
      "isMe": true,
      "permissionId": "",
      "photoUrl": "",
      "sessionId": "0",
      "userId": ""
     },
     "user_tz": 480
    },
    "id": "IRSyYiIIGIzS",
    "outputId": "3f8996ee-3574-4f44-c953-5c8a04636582"
   },
   "outputs": [
    {
     "name": "stdout",
     "output_type": "stream",
     "text": [
      "Training set (200000, 784) (200000, 10)\n",
      "Validation set (10000, 784) (10000, 10)\n",
      "Test set (10000, 784) (10000, 10)\n"
     ]
    }
   ],
   "source": [
    "image_size = 28\n",
    "num_labels = 10\n",
    "\n",
    "def reformat(dataset, labels):\n",
    "  dataset = dataset.reshape((-1, image_size * image_size)).astype(np.float32)\n",
    "  # Map 1 to [0.0, 1.0, 0.0 ...], 2 to [0.0, 0.0, 1.0 ...]\n",
    "  labels = (np.arange(num_labels) == labels[:,None]).astype(np.float32)\n",
    "  return dataset, labels\n",
    "train_dataset, train_labels = reformat(train_dataset, train_labels)\n",
    "valid_dataset, valid_labels = reformat(valid_dataset, valid_labels)\n",
    "test_dataset, test_labels = reformat(test_dataset, test_labels)\n",
    "print('Training set', train_dataset.shape, train_labels.shape)\n",
    "print('Validation set', valid_dataset.shape, valid_labels.shape)\n",
    "print('Test set', test_dataset.shape, test_labels.shape)"
   ]
  },
  {
   "cell_type": "code",
   "execution_count": 5,
   "metadata": {
    "cellView": "both",
    "colab": {
     "autoexec": {
      "startup": false,
      "wait_interval": 0
     }
    },
    "colab_type": "code",
    "collapsed": true,
    "id": "RajPLaL_ZW6w"
   },
   "outputs": [],
   "source": [
    "def accuracy(predictions, labels):\n",
    "  return (100.0 * np.sum(np.argmax(predictions, 1) == np.argmax(labels, 1))\n",
    "          / predictions.shape[0])"
   ]
  },
  {
   "cell_type": "markdown",
   "metadata": {
    "colab_type": "text",
    "id": "sgLbUAQ1CW-1"
   },
   "source": [
    "---\n",
    "Problem 1\n",
    "---------\n",
    "\n",
    "Introduce and tune L2 regularization for both logistic and neural network models. Remember that L2 amounts to adding a penalty on the norm of the weights to the loss. In TensorFlow, you can compute the L2 loss for a tensor `t` using `nn.l2_loss(t)`. The right amount of regularization should improve your validation / test accuracy.\n",
    "\n",
    "---"
   ]
  },
  {
   "cell_type": "code",
   "execution_count": 9,
   "metadata": {
    "collapsed": false
   },
   "outputs": [],
   "source": [
    "batch_size = 128\n",
    "beta = .001\n",
    "\n",
    "graph = tf.Graph()\n",
    "\n",
    "with graph.as_default():\n",
    "\n",
    "    # Input data. For the training data, we use a placeholder that will be fed\n",
    "    # at run time with a training minibatch.\n",
    "    tf_train_dataset = tf.placeholder(tf.float32,shape=(batch_size, image_size * image_size))\n",
    "    tf_train_labels = tf.placeholder(tf.float32, shape=(batch_size, num_labels))\n",
    "    tf_valid_dataset = tf.constant(valid_dataset)\n",
    "    tf_test_dataset = tf.constant(test_dataset)\n",
    "\n",
    "    # Variables.\n",
    "    weights = tf.Variable(tf.truncated_normal([image_size * image_size, num_labels]))\n",
    "    biases = tf.Variable(tf.zeros([num_labels]))\n",
    "\n",
    "    # Training computation.\n",
    "    logits = tf.matmul(tf_train_dataset, weights) + biases\n",
    "    loss = tf.reduce_mean(tf.nn.softmax_cross_entropy_with_logits(logits, tf_train_labels)) + \\\n",
    "                                                                                beta * tf.nn.l2_loss(weights)\n",
    "\n",
    "    # Optimizer.\n",
    "    optimizer = tf.train.GradientDescentOptimizer(0.5).minimize(loss)\n",
    "\n",
    "    # Predictions for the training, validation, and test data.\n",
    "    train_prediction = tf.nn.softmax(logits)\n",
    "    valid_prediction = tf.nn.softmax(\n",
    "    tf.matmul(tf_valid_dataset, weights) + biases)\n",
    "    test_prediction = tf.nn.softmax(tf.matmul(tf_test_dataset, weights) + biases)"
   ]
  },
  {
   "cell_type": "code",
   "execution_count": 10,
   "metadata": {
    "collapsed": false
   },
   "outputs": [],
   "source": [
    "\n",
    "num_steps = 3001\n",
    "def run_training(graph, num_steps,train_dataset, train_labels):\n",
    "    with tf.Session(graph=graph) as session:\n",
    "        tf.initialize_all_variables().run()\n",
    "        print(\"Initialized\")\n",
    "        for step in range(num_steps):\n",
    "            # Pick an offset within the training data, which has been randomized.\n",
    "            # Note: we could use better randomization across epochs.\n",
    "            offset = (step * batch_size) % (train_labels.shape[0] - batch_size)\n",
    "            # Generate a minibatch.\n",
    "            batch_data = train_dataset[offset:(offset + batch_size), :]\n",
    "            batch_labels = train_labels[offset:(offset + batch_size), :]\n",
    "            # Prepare a dictionary telling the session where to feed the minibatch.\n",
    "            # The key of the dictionary is the placeholder node of the graph to be fed,\n",
    "            # and the value is the numpy array to feed to it.\n",
    "            feed_dict = {tf_train_dataset : batch_data, tf_train_labels : batch_labels}\n",
    "            _, l, predictions = session.run(\n",
    "              [optimizer, loss, train_prediction], feed_dict=feed_dict)\n",
    "            if (step % 500 == 0):\n",
    "                print(\"Minibatch loss at step %d: %f\" % (step, l))\n",
    "                print(\"Minibatch accuracy: %.1f%%\" % accuracy(predictions, batch_labels))\n",
    "                print(\"Validation accuracy: %.1f%%\" % accuracy(\n",
    "                valid_prediction.eval(), valid_labels))\n",
    "        print(\"Test accuracy: %.1f%%\" % accuracy(test_prediction.eval(), test_labels))\n",
    "    "
   ]
  },
  {
   "cell_type": "code",
   "execution_count": 11,
   "metadata": {
    "collapsed": false
   },
   "outputs": [
    {
     "name": "stdout",
     "output_type": "stream",
     "text": [
      "Initialized\n",
      "Minibatch loss at step 0: 19.560663\n",
      "Minibatch accuracy: 16.4%\n",
      "Validation accuracy: 13.3%\n",
      "Minibatch loss at step 500: 2.806932\n",
      "Minibatch accuracy: 77.3%\n",
      "Validation accuracy: 75.9%\n",
      "Minibatch loss at step 1000: 1.788657\n",
      "Minibatch accuracy: 78.9%\n",
      "Validation accuracy: 78.0%\n",
      "Minibatch loss at step 1500: 1.182526\n",
      "Minibatch accuracy: 81.2%\n",
      "Validation accuracy: 80.2%\n",
      "Minibatch loss at step 2000: 0.800223\n",
      "Minibatch accuracy: 84.4%\n",
      "Validation accuracy: 80.0%\n",
      "Minibatch loss at step 2500: 0.739643\n",
      "Minibatch accuracy: 80.5%\n",
      "Validation accuracy: 81.3%\n",
      "Minibatch loss at step 3000: 0.699217\n",
      "Minibatch accuracy: 83.6%\n",
      "Validation accuracy: 81.3%\n",
      "Test accuracy: 88.4%\n"
     ]
    }
   ],
   "source": [
    "run_training(graph,num_steps,train_dataset, train_labels)"
   ]
  },
  {
   "cell_type": "markdown",
   "metadata": {},
   "source": [
    "## Neural Network :"
   ]
  },
  {
   "cell_type": "code",
   "execution_count": 47,
   "metadata": {
    "collapsed": false
   },
   "outputs": [
    {
     "name": "stdout",
     "output_type": "stream",
     "text": [
      "Initialized\n",
      "Minibatch loss at step 0: 665.415527\n",
      "Minibatch accuracy: 6.2%\n",
      "Validation accuracy: 29.2%\n",
      "Minibatch loss at step 500: 197.188202\n",
      "Minibatch accuracy: 81.2%\n",
      "Validation accuracy: 80.2%\n",
      "Minibatch loss at step 1000: 114.076729\n",
      "Minibatch accuracy: 85.2%\n",
      "Validation accuracy: 82.3%\n",
      "Minibatch loss at step 1500: 69.119957\n",
      "Minibatch accuracy: 82.8%\n",
      "Validation accuracy: 82.7%\n",
      "Minibatch loss at step 2000: 41.452358\n",
      "Minibatch accuracy: 86.7%\n",
      "Validation accuracy: 84.6%\n",
      "Minibatch loss at step 2500: 25.191143\n",
      "Minibatch accuracy: 89.1%\n",
      "Validation accuracy: 85.8%\n",
      "Minibatch loss at step 3000: 15.451426\n",
      "Minibatch accuracy: 89.1%\n",
      "Validation accuracy: 86.9%\n",
      "Minibatch loss at step 3500: 9.647138\n",
      "Minibatch accuracy: 85.2%\n",
      "Validation accuracy: 87.5%\n",
      "Minibatch loss at step 4000: 6.025967\n",
      "Minibatch accuracy: 88.3%\n",
      "Validation accuracy: 87.8%\n",
      "Minibatch loss at step 4500: 3.910480\n",
      "Minibatch accuracy: 84.4%\n",
      "Validation accuracy: 88.2%\n",
      "Minibatch loss at step 5000: 2.481124\n",
      "Minibatch accuracy: 89.8%\n",
      "Validation accuracy: 88.4%\n",
      "Minibatch loss at step 5500: 1.710404\n",
      "Minibatch accuracy: 88.3%\n",
      "Validation accuracy: 88.3%\n",
      "Minibatch loss at step 6000: 1.328367\n",
      "Minibatch accuracy: 85.9%\n",
      "Validation accuracy: 88.2%\n",
      "Minibatch loss at step 6500: 0.968232\n",
      "Minibatch accuracy: 88.3%\n",
      "Validation accuracy: 88.7%\n",
      "Minibatch loss at step 7000: 0.816236\n",
      "Minibatch accuracy: 88.3%\n",
      "Validation accuracy: 88.4%\n",
      "Minibatch loss at step 7500: 0.695516\n",
      "Minibatch accuracy: 89.8%\n",
      "Validation accuracy: 88.4%\n",
      "Minibatch loss at step 8000: 0.537394\n",
      "Minibatch accuracy: 91.4%\n",
      "Validation accuracy: 88.6%\n",
      "Minibatch loss at step 8500: 0.579121\n",
      "Minibatch accuracy: 85.9%\n",
      "Validation accuracy: 88.3%\n",
      "Minibatch loss at step 9000: 0.475537\n",
      "Minibatch accuracy: 89.8%\n",
      "Validation accuracy: 88.2%\n",
      "Minibatch loss at step 9500: 0.497730\n",
      "Minibatch accuracy: 88.3%\n",
      "Validation accuracy: 88.7%\n",
      "Minibatch loss at step 10000: 0.507643\n",
      "Minibatch accuracy: 89.8%\n",
      "Validation accuracy: 88.1%\n",
      "Test accuracy: 93.8%\n"
     ]
    }
   ],
   "source": [
    "batch_size = 128\n",
    "hidden_layer = 1024\n",
    "beta = .001\n",
    "\n",
    "g_NN = tf.Graph()\n",
    "with g_NN.as_default():\n",
    "    # Input data. For the training data, we use a placeholder that will be fed\n",
    "    # at run time with a training minibatch.\n",
    "    tf_train_dataset = tf.placeholder(tf.float32,shape=(batch_size, image_size * image_size))\n",
    "    tf_train_labels = tf.placeholder(tf.float32, shape=(batch_size, num_labels))\n",
    "    tf_valid_dataset = tf.constant(valid_dataset)\n",
    "    tf_test_dataset = tf.constant(test_dataset)\n",
    "\n",
    "    # Variables.\n",
    "    weights = tf.Variable(tf.truncated_normal([image_size * image_size, hidden_layer]))\n",
    "\n",
    "    biases = tf.Variable(tf.zeros([hidden_layer]))\n",
    "\n",
    "    weights1 = tf.Variable(tf.truncated_normal([hidden_layer, num_labels]))\n",
    "\n",
    "    biases1 = tf.Variable(tf.zeros([num_labels]))\n",
    "\n",
    "    # Training computation.\n",
    "    layer1_out = tf.nn.relu(tf.matmul(tf_train_dataset, weights) + biases)\n",
    "    logits = tf.matmul(layer1_out, weights1) + biases1\n",
    "\n",
    "    loss = tf.reduce_mean(tf.nn.softmax_cross_entropy_with_logits(logits, tf_train_labels)) \\\n",
    "                                              + beta * tf.nn.l2_loss(weights) + beta * tf.nn.l2_loss(weights1)\n",
    "\n",
    "    # Optimizer.\n",
    "    optimizer = tf.train.GradientDescentOptimizer(0.5).minimize(loss)\n",
    "\n",
    "    # Predictions for the training, validation, and test data.\n",
    "    train_prediction = tf.nn.softmax(logits)\n",
    "\n",
    "    layer1_out_valid = tf.nn.relu(tf.matmul(tf_valid_dataset, weights) + biases)\n",
    "    logits_valid = tf.matmul(layer1_out_valid, weights1) + biases1\n",
    "    valid_prediction = tf.nn.softmax(logits_valid)\n",
    "\n",
    "    layer1_out_test = tf.nn.relu(tf.matmul(tf_test_dataset, weights) + biases)\n",
    "    logits_test = tf.matmul(layer1_out_test, weights1) + biases1\n",
    "    test_prediction = tf.nn.softmax(logits_test)\n",
    "\n",
    "\n",
    "run_training(g_NN,10001,train_dataset, train_labels)"
   ]
  },
  {
   "cell_type": "markdown",
   "metadata": {
    "colab_type": "text",
    "id": "na8xX2yHZzNF"
   },
   "source": [
    "---\n",
    "Problem 2\n",
    "---------\n",
    "Let's demonstrate an extreme case of overfitting. Restrict your training data to just a few batches. What happens?\n",
    "\n",
    "---"
   ]
  },
  {
   "cell_type": "code",
   "execution_count": 89,
   "metadata": {
    "collapsed": false
   },
   "outputs": [
    {
     "name": "stdout",
     "output_type": "stream",
     "text": [
      "Initialized\n",
      "Minibatch loss at step 0: 337.734375\n",
      "Minibatch accuracy: 14.8%\n",
      "Validation accuracy: 29.4%\n",
      "Minibatch loss at step 500: 0.000000\n",
      "Minibatch accuracy: 100.0%\n",
      "Validation accuracy: 74.7%\n",
      "Minibatch loss at step 1000: 0.000000\n",
      "Minibatch accuracy: 100.0%\n",
      "Validation accuracy: 74.7%\n",
      "Minibatch loss at step 1500: 0.000000\n",
      "Minibatch accuracy: 100.0%\n",
      "Validation accuracy: 74.7%\n",
      "Minibatch loss at step 2000: 0.000000\n",
      "Minibatch accuracy: 100.0%\n",
      "Validation accuracy: 74.7%\n",
      "Minibatch loss at step 2500: 0.000000\n",
      "Minibatch accuracy: 100.0%\n",
      "Validation accuracy: 74.7%\n",
      "Minibatch loss at step 3000: 0.000000\n",
      "Minibatch accuracy: 100.0%\n",
      "Validation accuracy: 74.7%\n",
      "Test accuracy: 82.0%\n"
     ]
    }
   ],
   "source": [
    "batch_size = 128\n",
    "hidden_layer = 1024\n",
    "beta = 0\n",
    "\n",
    "g_NN = tf.Graph()\n",
    "with g_NN.as_default():\n",
    "    # Input data. For the training data, we use a placeholder that will be fed\n",
    "    # at run time with a training minibatch.\n",
    "    tf_train_dataset = tf.placeholder(tf.float32,shape=(batch_size, image_size * image_size))\n",
    "    tf_train_labels = tf.placeholder(tf.float32, shape=(batch_size, num_labels))\n",
    "    tf_valid_dataset = tf.constant(valid_dataset)\n",
    "    tf_test_dataset = tf.constant(test_dataset)\n",
    "\n",
    "    # Variables.\n",
    "    weights = tf.Variable(tf.truncated_normal([image_size * image_size, hidden_layer]))\n",
    "\n",
    "    biases = tf.Variable(tf.zeros([hidden_layer]))\n",
    "\n",
    "    weights1 = tf.Variable(tf.truncated_normal([hidden_layer, num_labels]))\n",
    "\n",
    "    biases1 = tf.Variable(tf.zeros([num_labels]))\n",
    "\n",
    "    # Training computation.\n",
    "    layer1_out = tf.nn.relu(tf.matmul(tf_train_dataset, weights) + biases)\n",
    "    logits = tf.matmul(layer1_out, weights1) + biases1\n",
    "\n",
    "    loss = tf.reduce_mean(tf.nn.softmax_cross_entropy_with_logits(logits, tf_train_labels)) \\\n",
    "                                                                              + beta * tf.nn.l2_loss(weights)\n",
    "\n",
    "    # Optimizer.\n",
    "    optimizer = tf.train.GradientDescentOptimizer(0.5).minimize(loss)\n",
    "\n",
    "    # Predictions for the training, validation, and test data.\n",
    "    train_prediction = tf.nn.softmax(logits)\n",
    "\n",
    "    layer1_out_valid = tf.nn.relu(tf.matmul(tf_valid_dataset, weights) + biases)\n",
    "    logits_valid = tf.matmul(layer1_out_valid, weights1) + biases1\n",
    "    valid_prediction = tf.nn.softmax(logits_valid)\n",
    "\n",
    "    layer1_out_test = tf.nn.relu(tf.matmul(tf_test_dataset, weights) + biases)\n",
    "    logits_test = tf.matmul(layer1_out_test, weights1) + biases1\n",
    "    test_prediction = tf.nn.softmax(logits_test)\n",
    "\n",
    "run_training(g_NN,num_steps,train_dataset[:128*5,:], train_labels[:128*5,:])"
   ]
  },
  {
   "cell_type": "markdown",
   "metadata": {
    "colab_type": "text",
    "id": "ww3SCBUdlkRc"
   },
   "source": [
    "---\n",
    "Problem 3\n",
    "---------\n",
    "Introduce Dropout on the hidden layer of the neural network. Remember: Dropout should only be introduced during training, not evaluation, otherwise your evaluation results would be stochastic as well. TensorFlow provides `nn.dropout()` for that, but you have to make sure it's only inserted during training.\n",
    "\n",
    "What happens to our extreme overfitting case?\n",
    "\n",
    "---"
   ]
  },
  {
   "cell_type": "code",
   "execution_count": 98,
   "metadata": {
    "collapsed": false
   },
   "outputs": [
    {
     "name": "stdout",
     "output_type": "stream",
     "text": [
      "Initialized\n",
      "Minibatch loss at step 0: 461.654663\n",
      "Minibatch accuracy: 3.9%\n",
      "Validation accuracy: 28.1%\n",
      "Minibatch loss at step 500: 36.661930\n",
      "Minibatch accuracy: 79.7%\n",
      "Validation accuracy: 80.2%\n",
      "Minibatch loss at step 1000: 13.594918\n",
      "Minibatch accuracy: 75.8%\n",
      "Validation accuracy: 78.5%\n",
      "Minibatch loss at step 1500: 14.878325\n",
      "Minibatch accuracy: 69.5%\n",
      "Validation accuracy: 78.9%\n",
      "Minibatch loss at step 2000: 12.121876\n",
      "Minibatch accuracy: 76.6%\n",
      "Validation accuracy: 79.0%\n",
      "Minibatch loss at step 2500: 13.671824\n",
      "Minibatch accuracy: 71.1%\n",
      "Validation accuracy: 77.3%\n",
      "Minibatch loss at step 3000: 12.944775\n",
      "Minibatch accuracy: 74.2%\n",
      "Validation accuracy: 79.4%\n",
      "Minibatch loss at step 3500: 9.058495\n",
      "Minibatch accuracy: 76.6%\n",
      "Validation accuracy: 78.4%\n",
      "Minibatch loss at step 4000: 4.096803\n",
      "Minibatch accuracy: 72.7%\n",
      "Validation accuracy: 79.2%\n",
      "Minibatch loss at step 4500: 5.948316\n",
      "Minibatch accuracy: 78.9%\n",
      "Validation accuracy: 80.3%\n",
      "Minibatch loss at step 5000: 2.086392\n",
      "Minibatch accuracy: 78.1%\n",
      "Validation accuracy: 80.6%\n",
      "Minibatch loss at step 5500: 3.501399\n",
      "Minibatch accuracy: 77.3%\n",
      "Validation accuracy: 80.5%\n",
      "Minibatch loss at step 6000: 2.020084\n",
      "Minibatch accuracy: 73.4%\n",
      "Validation accuracy: 81.5%\n",
      "Minibatch loss at step 6500: 4.652301\n",
      "Minibatch accuracy: 74.2%\n",
      "Validation accuracy: 81.0%\n",
      "Minibatch loss at step 7000: 6.364161\n",
      "Minibatch accuracy: 76.6%\n",
      "Validation accuracy: 81.4%\n",
      "Minibatch loss at step 7500: 1.706822\n",
      "Minibatch accuracy: 80.5%\n",
      "Validation accuracy: 81.7%\n",
      "Minibatch loss at step 8000: 1.088633\n",
      "Minibatch accuracy: 77.3%\n",
      "Validation accuracy: 81.5%\n",
      "Minibatch loss at step 8500: 1.106641\n",
      "Minibatch accuracy: 75.0%\n",
      "Validation accuracy: 81.7%\n",
      "Minibatch loss at step 9000: 1.013663\n",
      "Minibatch accuracy: 80.5%\n",
      "Validation accuracy: 82.0%\n",
      "Minibatch loss at step 9500: 1.960722\n",
      "Minibatch accuracy: 77.3%\n",
      "Validation accuracy: 82.2%\n",
      "Minibatch loss at step 10000: 3.961780\n",
      "Minibatch accuracy: 78.9%\n",
      "Validation accuracy: 81.9%\n",
      "Test accuracy: 88.7%\n"
     ]
    }
   ],
   "source": [
    "batch_size = 128\n",
    "hidden_layer = 1024\n",
    "\n",
    "g_NN = tf.Graph()\n",
    "with g_NN.as_default():\n",
    "    # Input data. For the training data, we use a placeholder that will be fed\n",
    "    # at run time with a training minibatch.\n",
    "    tf_train_dataset = tf.placeholder(tf.float32,shape=(batch_size, image_size * image_size))\n",
    "    tf_train_labels = tf.placeholder(tf.float32, shape=(batch_size, num_labels))\n",
    "    tf_valid_dataset = tf.constant(valid_dataset)\n",
    "    tf_test_dataset = tf.constant(test_dataset)\n",
    "\n",
    "    # Variables.\n",
    "    weights = tf.Variable(tf.truncated_normal([image_size * image_size, hidden_layer]))\n",
    "\n",
    "    biases = tf.Variable(tf.zeros([hidden_layer]))\n",
    "\n",
    "    weights1 = tf.Variable(tf.truncated_normal([hidden_layer, num_labels]))\n",
    "\n",
    "    biases1 = tf.Variable(tf.zeros([num_labels]))\n",
    "\n",
    "    # Training computation.\n",
    "    layer1_out = tf.nn.dropout(tf.nn.relu(tf.matmul(tf_train_dataset, weights) + biases), .5)\n",
    "    logits = tf.matmul(layer1_out, weights1) + biases1\n",
    "\n",
    "    loss = tf.reduce_mean(tf.nn.softmax_cross_entropy_with_logits(logits, tf_train_labels)) \n",
    "\n",
    "    # Optimizer.\n",
    "    optimizer = tf.train.GradientDescentOptimizer(0.5).minimize(loss)\n",
    "\n",
    "    # Predictions for the training, validation, and test data.\n",
    "    train_prediction = tf.nn.softmax(logits)\n",
    "\n",
    "    layer1_out_valid = tf.nn.relu(tf.matmul(tf_valid_dataset, weights) + biases)\n",
    "    logits_valid = tf.matmul(layer1_out_valid, weights1) + biases1\n",
    "    valid_prediction = tf.nn.softmax(logits_valid)\n",
    "\n",
    "    layer1_out_test = tf.nn.relu(tf.matmul(tf_test_dataset, weights) + biases)\n",
    "    logits_test = tf.matmul(layer1_out_test, weights1) + biases1\n",
    "    test_prediction = tf.nn.softmax(logits_test)\n",
    "    \n",
    "run_training(g_NN,10001,train_dataset, train_labels)"
   ]
  },
  {
   "cell_type": "markdown",
   "metadata": {
    "colab_type": "text",
    "id": "-b1hTz3VWZjw"
   },
   "source": [
    "---\n",
    "Problem 4\n",
    "---------\n",
    "\n",
    "Try to get the best performance you can using a multi-layer model! The best reported test accuracy using a deep network is [97.1%](http://yaroslavvb.blogspot.com/2011/09/notmnist-dataset.html?showComment=1391023266211#c8758720086795711595).\n",
    "\n",
    "One avenue you can explore is to add multiple layers.\n",
    "\n",
    "Another one is to use learning rate decay:\n",
    "\n",
    "    global_step = tf.Variable(0)  # count the number of steps taken.\n",
    "    learning_rate = tf.train.exponential_decay(0.5, global_step, ...)\n",
    "    optimizer = tf.train.GradientDescentOptimizer(learning_rate).minimize(loss, global_step=global_step)\n",
    " \n",
    " ---\n"
   ]
  },
  {
   "cell_type": "code",
   "execution_count": 57,
   "metadata": {
    "collapsed": false
   },
   "outputs": [
    {
     "name": "stdout",
     "output_type": "stream",
     "text": [
      "Initialized\n",
      "Minibatch loss at step 0: 1602.499146\n",
      "Minibatch accuracy: 13.3%\n",
      "Validation accuracy: 10.5%\n",
      "Minibatch loss at step 500: 948.673889\n",
      "Minibatch accuracy: 36.7%\n",
      "Validation accuracy: 51.2%\n",
      "Minibatch loss at step 1000: 577.542114\n",
      "Minibatch accuracy: 63.3%\n",
      "Validation accuracy: 73.2%\n",
      "Minibatch loss at step 1500: 353.000214\n",
      "Minibatch accuracy: 60.9%\n",
      "Validation accuracy: 76.4%\n",
      "Minibatch loss at step 2000: 216.212006\n",
      "Minibatch accuracy: 68.0%\n",
      "Validation accuracy: 80.2%\n",
      "Minibatch loss at step 2500: 133.040009\n",
      "Minibatch accuracy: 68.8%\n",
      "Validation accuracy: 81.8%\n",
      "Minibatch loss at step 3000: 82.058319\n",
      "Minibatch accuracy: 75.0%\n",
      "Validation accuracy: 82.4%\n",
      "Minibatch loss at step 3500: 50.998260\n",
      "Minibatch accuracy: 75.0%\n",
      "Validation accuracy: 83.1%\n",
      "Minibatch loss at step 4000: 31.851360\n",
      "Minibatch accuracy: 75.0%\n",
      "Validation accuracy: 83.8%\n",
      "Minibatch loss at step 4500: 20.088167\n",
      "Minibatch accuracy: 75.8%\n",
      "Validation accuracy: 84.0%\n",
      "Minibatch loss at step 5000: 12.758931\n",
      "Minibatch accuracy: 78.1%\n",
      "Validation accuracy: 84.3%\n",
      "Minibatch loss at step 5500: 8.262790\n",
      "Minibatch accuracy: 78.9%\n",
      "Validation accuracy: 84.7%\n",
      "Minibatch loss at step 6000: 5.540856\n",
      "Minibatch accuracy: 72.7%\n",
      "Validation accuracy: 84.8%\n",
      "Minibatch loss at step 6500: 3.817767\n",
      "Minibatch accuracy: 74.2%\n",
      "Validation accuracy: 85.3%\n",
      "Minibatch loss at step 7000: 2.819729\n",
      "Minibatch accuracy: 76.6%\n",
      "Validation accuracy: 85.3%\n",
      "Minibatch loss at step 7500: 2.011144\n",
      "Minibatch accuracy: 75.8%\n",
      "Validation accuracy: 85.4%\n",
      "Minibatch loss at step 8000: 1.493593\n",
      "Minibatch accuracy: 83.6%\n",
      "Validation accuracy: 85.5%\n",
      "Minibatch loss at step 8500: 1.430190\n",
      "Minibatch accuracy: 69.5%\n",
      "Validation accuracy: 85.6%\n",
      "Minibatch loss at step 9000: 1.089920\n",
      "Minibatch accuracy: 81.2%\n",
      "Validation accuracy: 85.5%\n",
      "Minibatch loss at step 9500: 1.038787\n",
      "Minibatch accuracy: 77.3%\n",
      "Validation accuracy: 85.8%\n",
      "Minibatch loss at step 10000: 0.861332\n",
      "Minibatch accuracy: 81.2%\n",
      "Validation accuracy: 85.8%\n",
      "Minibatch loss at step 10500: 0.672208\n",
      "Minibatch accuracy: 89.1%\n",
      "Validation accuracy: 85.9%\n",
      "Minibatch loss at step 11000: 1.030451\n",
      "Minibatch accuracy: 75.8%\n",
      "Validation accuracy: 86.0%\n",
      "Minibatch loss at step 11500: 1.025331\n",
      "Minibatch accuracy: 72.7%\n",
      "Validation accuracy: 86.2%\n",
      "Minibatch loss at step 12000: 0.790473\n",
      "Minibatch accuracy: 82.0%\n",
      "Validation accuracy: 86.1%\n",
      "Minibatch loss at step 12500: 0.922956\n",
      "Minibatch accuracy: 76.6%\n",
      "Validation accuracy: 85.9%\n",
      "Minibatch loss at step 13000: 0.896801\n",
      "Minibatch accuracy: 80.5%\n",
      "Validation accuracy: 86.1%\n",
      "Minibatch loss at step 13500: 0.838898\n",
      "Minibatch accuracy: 78.9%\n",
      "Validation accuracy: 86.4%\n",
      "Minibatch loss at step 14000: 0.907999\n",
      "Minibatch accuracy: 78.1%\n",
      "Validation accuracy: 86.4%\n",
      "Minibatch loss at step 14500: 0.938157\n",
      "Minibatch accuracy: 78.1%\n",
      "Validation accuracy: 86.4%\n",
      "Minibatch loss at step 15000: 0.880982\n",
      "Minibatch accuracy: 80.5%\n",
      "Validation accuracy: 86.3%\n",
      "Test accuracy: 92.3%\n"
     ]
    }
   ],
   "source": [
    "batch_size = 128\n",
    "layer1_size = 1024\n",
    "layer2_size = 128\n",
    "layer1_keep = .5\n",
    "layer2_keep = .5\n",
    "beta = 0.005\n",
    "learning_rate_init = .1\n",
    "g_NN = tf.Graph()\n",
    "with g_NN.as_default():\n",
    "    # Input data. For the training data, we use a placeholder that will be fed\n",
    "    # at run time with a training minibatch.\n",
    "    tf_train_dataset = tf.placeholder(tf.float32,shape=(batch_size, image_size * image_size))\n",
    "    tf_train_labels = tf.placeholder(tf.float32, shape=(batch_size, num_labels))\n",
    "    tf_valid_dataset = tf.constant(valid_dataset)\n",
    "    tf_test_dataset = tf.constant(test_dataset)\n",
    "\n",
    "    # Variables.\n",
    "    weights = tf.Variable(tf.truncated_normal([image_size * image_size, layer1_size]))\n",
    "\n",
    "    biases = tf.Variable(tf.zeros([layer1_size]))\n",
    "\n",
    "    weights1 = tf.Variable(tf.truncated_normal([layer1_size, layer2_size],stddev=.1))\n",
    "\n",
    "    biases1 = tf.Variable(tf.zeros([layer2_size]))\n",
    "    \n",
    "    weights2 = tf.Variable(tf.truncated_normal([layer2_size, num_labels],stddev=.1))\n",
    "\n",
    "    biases2 = tf.Variable(tf.zeros([num_labels]))\n",
    "\n",
    "    # Training computation.\n",
    "    layer1_out = tf.nn.dropout(tf.nn.relu(tf.matmul(tf_train_dataset, weights) + biases), layer1_keep)\n",
    "    layer2_out = tf.nn.dropout(tf.nn.relu(tf.matmul(layer1_out, weights1) + biases1), layer2_keep)\n",
    "    logits = tf.matmul(layer2_out, weights2) + biases2\n",
    "\n",
    "    loss = tf.reduce_mean(tf.nn.softmax_cross_entropy_with_logits(logits, tf_train_labels)) \\\n",
    "                    + beta * (tf.nn.l2_loss(weights) + tf.nn.l2_loss(weights1) + tf.nn.l2_loss(weights2) )\n",
    "\n",
    "    # Optimizer.\n",
    "    global_step = tf.Variable(0)  # count the number of steps taken.\n",
    "    learning_rate = tf.train.exponential_decay(learning_rate_init, global_step, 10000, 0.90)\n",
    "    optimizer = tf.train.GradientDescentOptimizer(learning_rate).minimize(loss, global_step=global_step)\n",
    "    \n",
    "#     optimizer = tf.train.GradientDescentOptimizer(learning_rate_init).minimize(loss)\n",
    "\n",
    "    # Predictions for the training, validation, and test data.\n",
    "    train_prediction = tf.nn.softmax(logits)\n",
    "\n",
    "    layer1_out_valid = tf.nn.relu(tf.matmul(tf_valid_dataset, weights) + biases)\n",
    "    layer2_out_valid = tf.nn.relu(tf.matmul(layer1_out_valid, weights1) + biases1)\n",
    "    logits_valid = tf.matmul(layer2_out_valid, weights2) + biases2\n",
    "    valid_prediction = tf.nn.softmax(logits_valid)\n",
    "\n",
    "    layer1_out_test = tf.nn.relu(tf.matmul(tf_test_dataset, weights) + biases)\n",
    "    layer2_out_test = tf.nn.relu(tf.matmul(layer1_out_test, weights1) + biases1)    \n",
    "    logits_test = tf.matmul(layer2_out_test, weights2) + biases2\n",
    "    test_prediction = tf.nn.softmax(logits_test)\n",
    "    \n",
    "run_training(g_NN,15001,train_dataset, train_labels)"
   ]
  }
 ],
 "metadata": {
  "colab": {
   "default_view": {},
   "name": "3_regularization.ipynb",
   "provenance": [],
   "version": "0.3.2",
   "views": {}
  },
  "kernelspec": {
   "display_name": "Python 2",
   "language": "python",
   "name": "python2"
  },
  "language_info": {
   "codemirror_mode": {
    "name": "ipython",
    "version": 2
   },
   "file_extension": ".py",
   "mimetype": "text/x-python",
   "name": "python",
   "nbconvert_exporter": "python",
   "pygments_lexer": "ipython2",
   "version": "2.7.6"
  }
 },
 "nbformat": 4,
 "nbformat_minor": 0
}
